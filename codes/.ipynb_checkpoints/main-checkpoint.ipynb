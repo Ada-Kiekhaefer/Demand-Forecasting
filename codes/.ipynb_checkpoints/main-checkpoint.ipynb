{
 "cells": [
  {
   "cell_type": "code",
   "execution_count": 1,
   "metadata": {},
   "outputs": [],
   "source": [
    "import pandas as pd\n",
    "import matplotlib.pyplot as plt\n",
    "import statsmodels.api as sm\n",
    "from statsmodels.tsa.arima_model import ARMA\n",
    "from eda.utils import *\n",
    "from statsmodels.graphics.tsaplots import plot_acf, plot_pacf"
   ]
  },
  {
   "cell_type": "code",
   "execution_count": null,
   "metadata": {},
   "outputs": [],
   "source": [
    "filename = '../data/train.csv'\n",
    "train_df_raw = pd.read_csv(filename)\n",
    "print(train_df_raw.shape)\n",
    "print(train_df_raw.dtypes)\n",
    "print(train_df_raw.head())\n",
    "print(train_df_raw.tail())\n",
    "\n",
    "train_df = train_df_raw.copy()\n",
    "train_df = train_df.set_index('date')\n",
    "train_df.index = pd.to_datetime(train_df.index)"
   ]
  },
  {
   "cell_type": "code",
   "execution_count": null,
   "metadata": {},
   "outputs": [],
   "source": [
    "plot_store_item(train_df, store = 1, item = 10, t_start = '2013-01', t_end = '2013-12')\n",
    "\n",
    "plot_monthly_average(train_df, store = 1, item = 10)\n",
    "\n",
    "plot_monthly_variation(train_df, store = 1, item = 20)\n",
    "\n",
    "store_item_stat = summary_stats(train_df, store = 1, item = 1)"
   ]
  },
  {
   "cell_type": "code",
   "execution_count": null,
   "metadata": {},
   "outputs": [],
   "source": [
    "#subset data, monthly mean \n",
    "df_sub_monthly_mean = df_subset_monthly_mean(train_df, store = 1, item = 10)"
   ]
  },
  {
   "cell_type": "code",
   "execution_count": null,
   "metadata": {},
   "outputs": [],
   "source": [
    "# Plot the autocorrelation\n",
    "plot_acf(df_sub_monthly_mean, alpha = 1, lags=12)\n",
    "plt.show()"
   ]
  },
  {
   "cell_type": "code",
   "execution_count": null,
   "metadata": {},
   "outputs": [],
   "source": [
    "#Fit AR model\n",
    "mod = ARMA(df_sub_monthly_mean, order = (10,0))\n",
    "result = mod.fit()\n",
    "print(result.summary())\n",
    "print(result.params)\n",
    "\n",
    "#Forecasting\n",
    "result.plot_predict(start = '2018-01-31', end = '2018-12-31')\n",
    "plt.show()\n",
    "\n",
    "# plot partial ACF (PACF)\n",
    "plot_pacf(df_sub_monthly_mean, alpha = 1, lags=20)\n",
    "plt.show()\n",
    "\n",
    "# get Akaike  information creteria (AIC) and Bayesian information creteria (BIC)\n",
    "print(result.aic)\n",
    "print(result.bic)"
   ]
  },
  {
   "cell_type": "code",
   "execution_count": null,
   "metadata": {},
   "outputs": [],
   "source": [
    "# MA model\n",
    "mod = ARMA(df_sub_monthly_mean, order = (0,10)) # reverse order with AR model\n",
    "result = mod.fit()\n",
    "print(result.summary())\n",
    "print(result.params)\n",
    "result.plot_predict(start = '2018-01-31', end = '2018-12-31')\n",
    "plt.show()\n",
    "\n",
    "# random walk test\n",
    "\n",
    "# transform to stationary\n",
    "\n",
    "#train model\n",
    "\n",
    "#make prediction"
   ]
  }
 ],
 "metadata": {
  "kernelspec": {
   "display_name": "Python 3",
   "language": "python",
   "name": "python3"
  },
  "language_info": {
   "codemirror_mode": {
    "name": "ipython",
    "version": 3
   },
   "file_extension": ".py",
   "mimetype": "text/x-python",
   "name": "python",
   "nbconvert_exporter": "python",
   "pygments_lexer": "ipython3",
   "version": "3.7.7"
  }
 },
 "nbformat": 4,
 "nbformat_minor": 4
}
